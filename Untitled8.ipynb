{
  "nbformat": 4,
  "nbformat_minor": 0,
  "metadata": {
    "colab": {
      "name": "Untitled8.ipynb",
      "provenance": [],
      "authorship_tag": "ABX9TyMlOm89NOJL3yXWhO2OBo1I",
      "include_colab_link": true
    },
    "kernelspec": {
      "name": "python3",
      "display_name": "Python 3"
    }
  },
  "cells": [
    {
      "cell_type": "markdown",
      "metadata": {
        "id": "view-in-github",
        "colab_type": "text"
      },
      "source": [
        "<a href=\"https://colab.research.google.com/github/ahmedhassan97/first_project_for_classification/blob/master/Untitled8.ipynb\" target=\"_parent\"><img src=\"https://colab.research.google.com/assets/colab-badge.svg\" alt=\"Open In Colab\"/></a>"
      ]
    },
    {
      "cell_type": "code",
      "metadata": {
        "id": "ybliXjE9SfLM",
        "colab_type": "code",
        "colab": {}
      },
      "source": [
        "import numpy as np\n",
        "from scipy.io import loadmat"
      ],
      "execution_count": 0,
      "outputs": []
    },
    {
      "cell_type": "code",
      "metadata": {
        "id": "AZZWstSaWKeS",
        "colab_type": "code",
        "colab": {}
      },
      "source": [
        "data = loadmat('data.mat')"
      ],
      "execution_count": 0,
      "outputs": []
    },
    {
      "cell_type": "code",
      "metadata": {
        "id": "Sj7didQzWRJH",
        "colab_type": "code",
        "outputId": "607012a7-29c4-4160-f0d3-b781952b0db1",
        "colab": {
          "base_uri": "https://localhost:8080/",
          "height": 221
        }
      },
      "source": [
        "#print(data)\n",
        "print(data['X'][0].shape)\n",
        "print(data['y'])\n",
        "print('X Shape = ' , data['X'].shape)\n",
        "print('Y Shape = ', data['y'].shape)\n",
        "print(\"data is y =\" ,data['y'][1000])\n",
        "print(data['X'][0][155])\n"
      ],
      "execution_count": 50,
      "outputs": [
        {
          "output_type": "stream",
          "text": [
            "(400,)\n",
            "[[10]\n",
            " [10]\n",
            " [10]\n",
            " ...\n",
            " [ 9]\n",
            " [ 9]\n",
            " [ 9]]\n",
            "X Shape =  (5000, 400)\n",
            "Y Shape =  (5000, 1)\n",
            "data is y = [2]\n",
            "0.9017626506597092\n"
          ],
          "name": "stdout"
        }
      ]
    },
    {
      "cell_type": "code",
      "metadata": {
        "id": "6iYRMmgwlasH",
        "colab_type": "code",
        "colab": {}
      },
      "source": [
        "def sigmoid(z):\n",
        "  return 1 / (1 + np.exp(-z))"
      ],
      "execution_count": 0,
      "outputs": []
    },
    {
      "cell_type": "code",
      "metadata": {
        "id": "HrFFJUOtldIm",
        "colab_type": "code",
        "colab": {}
      },
      "source": [
        "def cost(theta, X, y, learningRate):\n",
        "    theta = np.matrix(theta)\n",
        "    X = np.matrix(X)\n",
        "    y = np.matrix(y)\n",
        "    first = np.multiply(-y, np.log(sigmoid(X * theta.T)))\n",
        "    second = np.multiply((1 - y), np.log(1 - sigmoid(X * theta.T)))\n",
        "    reg = (learningRate / 2 * len(X)) * np.sum(np.power(theta[:,1:theta.shape[1]], 2))\n",
        "    return np.sum(first - second) / (len(X)) + reg"
      ],
      "execution_count": 0,
      "outputs": []
    },
    {
      "cell_type": "code",
      "metadata": {
        "id": "0zZwcEV1k0zG",
        "colab_type": "code",
        "colab": {}
      },
      "source": [
        "def gradient_with_loop(theta, X, y, learningRate):\n",
        "    theta = np.matrix(theta)\n",
        "    X = np.matrix(X)\n",
        "    y = np.matrix(y)\n",
        "    parameters = int(theta.ravel().shape[1])\n",
        "    grad = np.zeros(parameters)\n",
        "    error = sigmoid(X * theta.T) - y\n",
        "    for i in range(parameters):\n",
        "       term = np.multiply(error, X[:,i])\n",
        "       if (i == 0):\n",
        "          grad[i] = np.sum(term) / len(X)\n",
        "       else:\n",
        "          grad[i] = (np.sum(term) / len(X)) + ((learningRate / len(X)) * theta[:,i])\n",
        "          \n",
        "    return grad"
      ],
      "execution_count": 0,
      "outputs": []
    },
    {
      "cell_type": "code",
      "metadata": {
        "id": "X7bCODTKnL06",
        "colab_type": "code",
        "colab": {}
      },
      "source": [
        "def gradient(theta, X, y, learningRate):\n",
        "    theta = np.matrix(theta)\n",
        "    X = np.matrix(X)\n",
        "    y = np.matrix(y)\n",
        "    parameters = int(theta.ravel().shape[1])\n",
        "    error = sigmoid(X * theta.T) - y\n",
        "    grad = ((X.T * error) / len(X)).T + ((learningRate / len(X)) * theta)\n",
        "\n",
        "    # intercept gradient is not regularized\n",
        "    grad[0, 0] = np.sum(np.multiply(error, X[:,0])) / len(X)\n",
        "    return np.array(grad).ravel()"
      ],
      "execution_count": 0,
      "outputs": []
    },
    {
      "cell_type": "code",
      "metadata": {
        "id": "QT46kx5on3V0",
        "colab_type": "code",
        "colab": {}
      },
      "source": [
        "from scipy.optimize import minimize\n"
      ],
      "execution_count": 0,
      "outputs": []
    },
    {
      "cell_type": "code",
      "metadata": {
        "id": "VWUE7OzivXfh",
        "colab_type": "code",
        "colab": {}
      },
      "source": [
        "def one_vs_all(X, y, num_labels, learning_rate):\n",
        "  rows = X.shape[0] #5000\n",
        "  params = X.shape[1] #400\n",
        "# k X (n + 1) array for the parameters of each of the k classifiers\n",
        "  all_theta = np.zeros((num_labels, params + 1))\n",
        "  print('all_theta shape ' , all_theta.shape)\n",
        "# insert a column of ones at the beginning for the intercept term\n",
        "  X = np.insert(X,0, values=np.ones(rows), axis=1)\n",
        "  print('X shape ' , X.shape)\n",
        "# labels are 1-indexed instead of 0-indexed\n",
        "  for i in range(1, num_labels + 1):\n",
        "    theta = np.zeros(params + 1)\n",
        "    y_i = np.array([1 if label == i else 0 for label in y])\n",
        "    y_i = np.reshape(y_i, (rows, 1))\n",
        "      # minimize the objective function\n",
        "    fmin = minimize(fun=cost, x0=theta, args=(X, y_i,learning_rate), method='TNC', jac=gradient) \n",
        "  all_theta[i-1,:] = fmin.x\n",
        "  return all_theta"
      ],
      "execution_count": 0,
      "outputs": []
    },
    {
      "cell_type": "code",
      "metadata": {
        "id": "zcPTCglxDM_j",
        "colab_type": "code",
        "outputId": "c304beac-2fac-4c3d-f55e-36a63c4be954",
        "colab": {
          "base_uri": "https://localhost:8080/",
          "height": 51
        }
      },
      "source": [
        "rows = data['X'].shape[0]\n",
        "params = data['X'].shape[1]\n",
        "print('rows = ' ,rows)\n",
        "print('params = ' , params)"
      ],
      "execution_count": 58,
      "outputs": [
        {
          "output_type": "stream",
          "text": [
            "rows =  5000\n",
            "params =  400\n"
          ],
          "name": "stdout"
        }
      ]
    },
    {
      "cell_type": "code",
      "metadata": {
        "id": "2Ez0ymQFEEjU",
        "colab_type": "code",
        "outputId": "d488f9c8-cb2c-481b-cf74-4b2119eb452c",
        "colab": {
          "base_uri": "https://localhost:8080/",
          "height": 187
        }
      },
      "source": [
        "all_theta = np.zeros((10, params + 1))\n",
        "print('all_theta \\n' , all_theta)\n",
        "print('all_theta shape \\n' , all_theta.shape)"
      ],
      "execution_count": 59,
      "outputs": [
        {
          "output_type": "stream",
          "text": [
            "all_theta \n",
            " [[0. 0. 0. ... 0. 0. 0.]\n",
            " [0. 0. 0. ... 0. 0. 0.]\n",
            " [0. 0. 0. ... 0. 0. 0.]\n",
            " ...\n",
            " [0. 0. 0. ... 0. 0. 0.]\n",
            " [0. 0. 0. ... 0. 0. 0.]\n",
            " [0. 0. 0. ... 0. 0. 0.]]\n",
            "all_theta shape \n",
            " (10, 401)\n"
          ],
          "name": "stdout"
        }
      ]
    },
    {
      "cell_type": "code",
      "metadata": {
        "id": "2B8y1s2nFGx3",
        "colab_type": "code",
        "outputId": "233ccf14-b729-4c61-e401-9a50c4746fd5",
        "colab": {
          "base_uri": "https://localhost:8080/",
          "height": 153
        }
      },
      "source": [
        "X = np.insert(data['X'], 0, values=np.ones(rows), axis=1)\n",
        "print(X)\n",
        "print('X Shape = ' , X.shape)"
      ],
      "execution_count": 60,
      "outputs": [
        {
          "output_type": "stream",
          "text": [
            "[[1. 0. 0. ... 0. 0. 0.]\n",
            " [1. 0. 0. ... 0. 0. 0.]\n",
            " [1. 0. 0. ... 0. 0. 0.]\n",
            " ...\n",
            " [1. 0. 0. ... 0. 0. 0.]\n",
            " [1. 0. 0. ... 0. 0. 0.]\n",
            " [1. 0. 0. ... 0. 0. 0.]]\n",
            "X Shape =  (5000, 401)\n"
          ],
          "name": "stdout"
        }
      ]
    },
    {
      "cell_type": "code",
      "metadata": {
        "id": "BhzDd6WaFQRx",
        "colab_type": "code",
        "outputId": "e3c75953-1504-441b-9ca3-142dc9b8ed58",
        "colab": {
          "base_uri": "https://localhost:8080/",
          "height": 51
        }
      },
      "source": [
        "theta = np.zeros(params + 1)\n",
        "print('theta \\n' , theta.shape )"
      ],
      "execution_count": 61,
      "outputs": [
        {
          "output_type": "stream",
          "text": [
            "theta \n",
            " (401,)\n"
          ],
          "name": "stdout"
        }
      ]
    },
    {
      "cell_type": "code",
      "metadata": {
        "id": "Rk6tjt91Flb6",
        "colab_type": "code",
        "outputId": "ae9dce5b-9673-4554-816b-3f0408b1919d",
        "colab": {
          "base_uri": "https://localhost:8080/",
          "height": 68
        }
      },
      "source": [
        "y_0 = np.array([1 if label == 0 else 0 for label in data['y']])\n",
        "print('y_0')\n",
        "print(y_0.shape)\n",
        "print(y_0)"
      ],
      "execution_count": 62,
      "outputs": [
        {
          "output_type": "stream",
          "text": [
            "y_0\n",
            "(5000,)\n",
            "[0 0 0 ... 0 0 0]\n"
          ],
          "name": "stdout"
        }
      ]
    },
    {
      "cell_type": "code",
      "metadata": {
        "id": "C2kgdRu0F5ue",
        "colab_type": "code",
        "outputId": "e46e12e6-7ef0-477b-da72-aa2f73299919",
        "colab": {
          "base_uri": "https://localhost:8080/",
          "height": 170
        }
      },
      "source": [
        "y_0 = np.reshape(y_0, (rows, 1))\n",
        "print('y_0')\n",
        "print(y_0.shape)\n",
        "print(y_0)"
      ],
      "execution_count": 63,
      "outputs": [
        {
          "output_type": "stream",
          "text": [
            "y_0\n",
            "(5000, 1)\n",
            "[[0]\n",
            " [0]\n",
            " [0]\n",
            " ...\n",
            " [0]\n",
            " [0]\n",
            " [0]]\n"
          ],
          "name": "stdout"
        }
      ]
    },
    {
      "cell_type": "code",
      "metadata": {
        "id": "xrEYyTTZ8oIT",
        "colab_type": "code",
        "colab": {
          "base_uri": "https://localhost:8080/",
          "height": 119
        },
        "outputId": "84be7f1e-583d-4508-bdc8-766bce7e8da1"
      },
      "source": [
        "print()\n",
        "print('X.shape = ',X.shape)\n",
        "print()\n",
        "print('y.shape = ',y_0.shape)\n",
        "print()\n",
        "print('theta.shape = ',theta.shape)"
      ],
      "execution_count": 64,
      "outputs": [
        {
          "output_type": "stream",
          "text": [
            "\n",
            "X.shape =  (5000, 401)\n",
            "\n",
            "y.shape =  (5000, 1)\n",
            "\n",
            "theta.shape =  (401,)\n"
          ],
          "name": "stdout"
        }
      ]
    },
    {
      "cell_type": "code",
      "metadata": {
        "id": "npQmIJ_z8viH",
        "colab_type": "code",
        "colab": {
          "base_uri": "https://localhost:8080/",
          "height": 85
        },
        "outputId": "2fbaabfb-9458-4ac6-ef8b-7703921c92d4"
      },
      "source": [
        "print('all_theta.shape = ',all_theta.shape)\n",
        "print()\n",
        "print('data array = ' , np.unique(data['y']))\n",
        "print()"
      ],
      "execution_count": 65,
      "outputs": [
        {
          "output_type": "stream",
          "text": [
            "all_theta.shape =  (10, 401)\n",
            "\n",
            "data array =  [ 1  2  3  4  5  6  7  8  9 10]\n",
            "\n"
          ],
          "name": "stdout"
        }
      ]
    },
    {
      "cell_type": "code",
      "metadata": {
        "id": "A6nDRY5981P9",
        "colab_type": "code",
        "colab": {
          "base_uri": "https://localhost:8080/",
          "height": 306
        },
        "outputId": "b76e8690-6a87-4b54-a6bb-c52be3c8279e"
      },
      "source": [
        "all_theta = one_vs_all(data['X'], data['y'], 10, 1)\n",
        "print('Theta shape = ' , all_theta.shape)\n",
        "print('Theta = ')\n",
        "print(all_theta)"
      ],
      "execution_count": 66,
      "outputs": [
        {
          "output_type": "stream",
          "text": [
            "all_theta shape  (10, 401)\n",
            "X shape  (5000, 401)\n",
            "Theta shape =  (10, 401)\n",
            "Theta = \n",
            "[[ 0.00000000e+00  0.00000000e+00  0.00000000e+00 ...  0.00000000e+00\n",
            "   0.00000000e+00  0.00000000e+00]\n",
            " [ 0.00000000e+00  0.00000000e+00  0.00000000e+00 ...  0.00000000e+00\n",
            "   0.00000000e+00  0.00000000e+00]\n",
            " [ 0.00000000e+00  0.00000000e+00  0.00000000e+00 ...  0.00000000e+00\n",
            "   0.00000000e+00  0.00000000e+00]\n",
            " ...\n",
            " [ 0.00000000e+00  0.00000000e+00  0.00000000e+00 ...  0.00000000e+00\n",
            "   0.00000000e+00  0.00000000e+00]\n",
            " [ 0.00000000e+00  0.00000000e+00  0.00000000e+00 ...  0.00000000e+00\n",
            "   0.00000000e+00  0.00000000e+00]\n",
            " [-6.63412747e-05  0.00000000e+00  0.00000000e+00 ... -3.49766172e-09\n",
            "   1.13668635e-10  0.00000000e+00]]\n"
          ],
          "name": "stdout"
        }
      ]
    },
    {
      "cell_type": "code",
      "metadata": {
        "id": "QkuoxX5V_MXK",
        "colab_type": "code",
        "colab": {}
      },
      "source": [
        "def predict_all(X, all_theta):\n",
        "    rows = X.shape[0]\n",
        "    params = X.shape[1]\n",
        "    num_labels = all_theta.shape[0]\n",
        "    # same as before, insert ones to match the shape\n",
        "    X = np.insert(X, 0, values=np.ones(rows), axis=1)\n",
        "    # convert to matrices\n",
        "    X = np.matrix(X)\n",
        "    all_theta = np.matrix(all_theta)\n",
        "    # compute the class probability for each class on each training instance\n",
        "    h = sigmoid(X * all_theta.T)\n",
        "\n",
        "    print(\"h is \\n\",h)\n",
        "    # create array of the index with the maximum probability\n",
        "    h_argmax = np.argmax(h, axis=1)# because our array was zero-indexed we need to add one for the true label prediction\n",
        "    print(\"h_argmx is \\n\",h_argmax)\n",
        "    h_argmax = h_argmax + 1\n",
        "    return h_argmax"
      ],
      "execution_count": 0,
      "outputs": []
    },
    {
      "cell_type": "code",
      "metadata": {
        "id": "A9baduSe_l0J",
        "colab_type": "code",
        "colab": {
          "base_uri": "https://localhost:8080/",
          "height": 425
        },
        "outputId": "f1dc251c-c75a-47e3-9ac7-14bbd8259c7c"
      },
      "source": [
        "y_pred = predict_all(data['X'], all_theta)\n",
        "print(\"yprediction is \",y_pred)\n",
        "correct = [1 if a == b else 0 for (a, b) in zip(y_pred, data['y'])]\n",
        "accuracy = (sum(map(int, correct)) / float(len(correct)))\n",
        "print ('accuracy = {0}%'.format(accuracy * 100))"
      ],
      "execution_count": 70,
      "outputs": [
        {
          "output_type": "stream",
          "text": [
            "h is \n",
            " [[0.5        0.5        0.5        ... 0.5        0.5        0.50011087]\n",
            " [0.5        0.5        0.5        ... 0.5        0.5        0.50009774]\n",
            " [0.5        0.5        0.5        ... 0.5        0.5        0.49994457]\n",
            " ...\n",
            " [0.5        0.5        0.5        ... 0.5        0.5        0.49986895]\n",
            " [0.5        0.5        0.5        ... 0.5        0.5        0.49987077]\n",
            " [0.5        0.5        0.5        ... 0.5        0.5        0.49995448]]\n",
            "h_argmx is \n",
            " [[9]\n",
            " [9]\n",
            " [0]\n",
            " ...\n",
            " [0]\n",
            " [0]\n",
            " [0]]\n",
            "yprediction is  [[10]\n",
            " [10]\n",
            " [ 1]\n",
            " ...\n",
            " [ 1]\n",
            " [ 1]\n",
            " [ 1]]\n",
            "accuracy = 18.66%\n"
          ],
          "name": "stdout"
        }
      ]
    },
    {
      "cell_type": "code",
      "metadata": {
        "id": "fshG2r9PEOYM",
        "colab_type": "code",
        "colab": {}
      },
      "source": [
        "#this accurcy because data is not enough"
      ],
      "execution_count": 0,
      "outputs": []
    }
  ]
}