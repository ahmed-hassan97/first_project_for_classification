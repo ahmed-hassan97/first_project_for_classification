{
  "nbformat": 4,
  "nbformat_minor": 0,
  "metadata": {
    "colab": {
      "name": "Untitled8.ipynb",
      "provenance": [],
      "authorship_tag": "ABX9TyNiHxQlZv6jX88zr9LEOWtt",
      "include_colab_link": true
    },
    "kernelspec": {
      "name": "python3",
      "display_name": "Python 3"
    }
  },
  "cells": [
    {
      "cell_type": "markdown",
      "metadata": {
        "id": "view-in-github",
        "colab_type": "text"
      },
      "source": [
        "<a href=\"https://colab.research.google.com/github/ahmedhassan97/first_project_for_classification/blob/master/Untitled8.ipynb\" target=\"_parent\"><img src=\"https://colab.research.google.com/assets/colab-badge.svg\" alt=\"Open In Colab\"/></a>"
      ]
    },
    {
      "cell_type": "code",
      "metadata": {
        "id": "ybliXjE9SfLM",
        "colab_type": "code",
        "colab": {}
      },
      "source": [
        "import numpy as np\n",
        "from scipy.io import loadmat"
      ],
      "execution_count": 0,
      "outputs": []
    },
    {
      "cell_type": "code",
      "metadata": {
        "id": "AZZWstSaWKeS",
        "colab_type": "code",
        "colab": {}
      },
      "source": [
        "data = loadmat('data.mat')"
      ],
      "execution_count": 0,
      "outputs": []
    },
    {
      "cell_type": "code",
      "metadata": {
        "id": "Sj7didQzWRJH",
        "colab_type": "code",
        "colab": {
          "base_uri": "https://localhost:8080/",
          "height": 204
        },
        "outputId": "9459c196-b041-4985-d1ba-59c4f67b01e4"
      },
      "source": [
        "#print(data)\n",
        "#print(data['X'])\n",
        "print(data['y'])\n",
        "print('X Shape = ' , data['X'].shape)\n",
        "print('Y Shape = ', data['y'].shape)\n",
        "print(\"data is y =\" ,data['y'][1000])\n",
        "print(data['X'][0][155])\n"
      ],
      "execution_count": 10,
      "outputs": [
        {
          "output_type": "stream",
          "text": [
            "[[10]\n",
            " [10]\n",
            " [10]\n",
            " ...\n",
            " [ 9]\n",
            " [ 9]\n",
            " [ 9]]\n",
            "X Shape =  (5000, 400)\n",
            "Y Shape =  (5000, 1)\n",
            "data is y = [2]\n",
            "0.9017626506597092\n"
          ],
          "name": "stdout"
        }
      ]
    }
  ]
}